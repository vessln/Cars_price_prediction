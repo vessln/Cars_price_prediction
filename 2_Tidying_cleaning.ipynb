{
 "cells": [
  {
   "cell_type": "code",
   "execution_count": 1,
   "id": "4ee743f2-5c82-48c7-a33d-d6f2695d5271",
   "metadata": {},
   "outputs": [],
   "source": [
    "%matplotlib inline"
   ]
  },
  {
   "cell_type": "code",
   "execution_count": 42,
   "id": "1ec4ffa4-62c2-4008-890d-d9c01f7f4b08",
   "metadata": {},
   "outputs": [],
   "source": [
    "import numpy as np\n",
    "import pandas as pd\n",
    "import matplotlib.pyplot as plt\n",
    "import seaborn as sns\n",
    "\n",
    "from datetime import datetime\n",
    "from deep_translator import MyMemoryTranslator"
   ]
  },
  {
   "cell_type": "markdown",
   "id": "c03833c3-e8ff-43d1-b8ab-5be9d0848b00",
   "metadata": {},
   "source": [
    "# Data tidying and cleaning"
   ]
  },
  {
   "cell_type": "markdown",
   "id": "2ae0c6df-9951-44d9-905a-110dd2181982",
   "metadata": {},
   "source": [
    "### I review the data overall"
   ]
  },
  {
   "cell_type": "markdown",
   "id": "06e2f0d8-195f-4be4-bffc-7212e75c5334",
   "metadata": {},
   "source": [
    "I scrape the data at 27-02-2025. "
   ]
  },
  {
   "cell_type": "code",
   "execution_count": 3,
   "id": "3c3aa594-45fd-4a87-a38d-ceb96f8eda2e",
   "metadata": {},
   "outputs": [],
   "source": [
    "# current_date = datetime.today().strftime('%d-%m-%Y')\n",
    "current_date = \"27-02-2025\""
   ]
  },
  {
   "cell_type": "code",
   "execution_count": 4,
   "id": "b58877d1-6e7a-40b3-8857-fd7009411999",
   "metadata": {},
   "outputs": [],
   "source": [
    "cars_data = pd.read_csv(f\"data/raw_data_{current_date}.csv\")"
   ]
  },
  {
   "cell_type": "code",
   "execution_count": 5,
   "id": "e7d76336-76af-4da8-b077-af392676a430",
   "metadata": {},
   "outputs": [
    {
     "data": {
      "text/plain": [
       "(836, 13)"
      ]
     },
     "execution_count": 5,
     "metadata": {},
     "output_type": "execute_result"
    }
   ],
   "source": [
    "cars_data.shape"
   ]
  },
  {
   "cell_type": "code",
   "execution_count": 6,
   "id": "fbfed500-7e9f-4aa6-abda-8f8818531e3c",
   "metadata": {},
   "outputs": [
    {
     "data": {
      "text/html": [
       "<div>\n",
       "<style scoped>\n",
       "    .dataframe tbody tr th:only-of-type {\n",
       "        vertical-align: middle;\n",
       "    }\n",
       "\n",
       "    .dataframe tbody tr th {\n",
       "        vertical-align: top;\n",
       "    }\n",
       "\n",
       "    .dataframe thead th {\n",
       "        text-align: right;\n",
       "    }\n",
       "</style>\n",
       "<table border=\"1\" class=\"dataframe\">\n",
       "  <thead>\n",
       "    <tr style=\"text-align: right;\">\n",
       "      <th></th>\n",
       "      <th>title</th>\n",
       "      <th>price</th>\n",
       "      <th>manufacturing_year</th>\n",
       "      <th>mileage</th>\n",
       "      <th>color</th>\n",
       "      <th>fuel</th>\n",
       "      <th>hp</th>\n",
       "      <th>eurostandard</th>\n",
       "      <th>cubic_capacity</th>\n",
       "      <th>gearbox</th>\n",
       "      <th>type</th>\n",
       "      <th>region</th>\n",
       "      <th>url</th>\n",
       "    </tr>\n",
       "  </thead>\n",
       "  <tbody>\n",
       "    <tr>\n",
       "      <th>0</th>\n",
       "      <td>Mercedes-Benz GLE 450AMG COUPE Дистроник Камер...</td>\n",
       "      <td>69 990 лв.</td>\n",
       "      <td>април 2016 г.</td>\n",
       "      <td>153 000</td>\n",
       "      <td>Черен</td>\n",
       "      <td>Бензинов</td>\n",
       "      <td>367.0</td>\n",
       "      <td>6.0</td>\n",
       "      <td>3000</td>\n",
       "      <td>автоматична</td>\n",
       "      <td>Джип</td>\n",
       "      <td>София</td>\n",
       "      <td>https://www.mobile.bg/obiava-21739610929678661...</td>\n",
       "    </tr>\n",
       "    <tr>\n",
       "      <th>1</th>\n",
       "      <td>Mercedes-Benz GLE 350d Coupe-AMG Line-9G-troni...</td>\n",
       "      <td>69 999 лв.</td>\n",
       "      <td>януари 2017 г.</td>\n",
       "      <td>189 000</td>\n",
       "      <td>Бял</td>\n",
       "      <td>Дизелов</td>\n",
       "      <td>258.0</td>\n",
       "      <td>NaN</td>\n",
       "      <td>NaN</td>\n",
       "      <td>автоматична</td>\n",
       "      <td>Джип</td>\n",
       "      <td>Пазарджик</td>\n",
       "      <td>https://www.mobile.bg/obiava-21732691514860984...</td>\n",
       "    </tr>\n",
       "    <tr>\n",
       "      <th>2</th>\n",
       "      <td>Mercedes-Benz GLE 43 AMG COUPE Панорама Дистр....</td>\n",
       "      <td>78 990 лв.</td>\n",
       "      <td>октомври 2017 г.</td>\n",
       "      <td>127 000</td>\n",
       "      <td>Син</td>\n",
       "      <td>Бензинов</td>\n",
       "      <td>367.0</td>\n",
       "      <td>6.0</td>\n",
       "      <td>3000</td>\n",
       "      <td>автоматична</td>\n",
       "      <td>Джип</td>\n",
       "      <td>София</td>\n",
       "      <td>https://www.mobile.bg/obiava-11737682127414901...</td>\n",
       "    </tr>\n",
       "    <tr>\n",
       "      <th>3</th>\n",
       "      <td>Mercedes-Benz GLE 250 d</td>\n",
       "      <td>45 500 лв.</td>\n",
       "      <td>януари 2015 г.</td>\n",
       "      <td>178 000</td>\n",
       "      <td>Черен</td>\n",
       "      <td>Дизелов</td>\n",
       "      <td>204.0</td>\n",
       "      <td>NaN</td>\n",
       "      <td>2143</td>\n",
       "      <td>автоматична</td>\n",
       "      <td>Джип</td>\n",
       "      <td>Пловдив</td>\n",
       "      <td>https://www.mobile.bg/obiava-21705057744409616...</td>\n",
       "    </tr>\n",
       "    <tr>\n",
       "      <th>4</th>\n",
       "      <td>Mercedes-Benz GLE 350 4Matic AMG * ТОП СЪСТОЯНИЕ*</td>\n",
       "      <td>46 000 лв.</td>\n",
       "      <td>юли 2016 г.</td>\n",
       "      <td>251 700</td>\n",
       "      <td>Сив</td>\n",
       "      <td>Бензинов</td>\n",
       "      <td>307.0</td>\n",
       "      <td>5.0</td>\n",
       "      <td>3500</td>\n",
       "      <td>автоматична</td>\n",
       "      <td>Джип</td>\n",
       "      <td>София</td>\n",
       "      <td>https://www.mobile.bg/obiava-21725807501288193...</td>\n",
       "    </tr>\n",
       "  </tbody>\n",
       "</table>\n",
       "</div>"
      ],
      "text/plain": [
       "                                               title       price  \\\n",
       "0  Mercedes-Benz GLE 450AMG COUPE Дистроник Камер...  69 990 лв.   \n",
       "1  Mercedes-Benz GLE 350d Coupe-AMG Line-9G-troni...  69 999 лв.   \n",
       "2  Mercedes-Benz GLE 43 AMG COUPE Панорама Дистр....  78 990 лв.   \n",
       "3                            Mercedes-Benz GLE 250 d  45 500 лв.   \n",
       "4  Mercedes-Benz GLE 350 4Matic AMG * ТОП СЪСТОЯНИЕ*  46 000 лв.   \n",
       "\n",
       "  manufacturing_year  mileage  color      fuel     hp  eurostandard  \\\n",
       "0      април 2016 г.  153 000  Черен  Бензинов  367.0           6.0   \n",
       "1     януари 2017 г.  189 000    Бял   Дизелов  258.0           NaN   \n",
       "2   октомври 2017 г.  127 000    Син  Бензинов  367.0           6.0   \n",
       "3     януари 2015 г.  178 000  Черен   Дизелов  204.0           NaN   \n",
       "4        юли 2016 г.  251 700    Сив  Бензинов  307.0           5.0   \n",
       "\n",
       "  cubic_capacity      gearbox  type     region  \\\n",
       "0           3000  автоматична  Джип      София   \n",
       "1            NaN  автоматична  Джип  Пазарджик   \n",
       "2           3000  автоматична  Джип      София   \n",
       "3           2143  автоматична  Джип    Пловдив   \n",
       "4           3500  автоматична  Джип      София   \n",
       "\n",
       "                                                 url  \n",
       "0  https://www.mobile.bg/obiava-21739610929678661...  \n",
       "1  https://www.mobile.bg/obiava-21732691514860984...  \n",
       "2  https://www.mobile.bg/obiava-11737682127414901...  \n",
       "3  https://www.mobile.bg/obiava-21705057744409616...  \n",
       "4  https://www.mobile.bg/obiava-21725807501288193...  "
      ]
     },
     "execution_count": 6,
     "metadata": {},
     "output_type": "execute_result"
    }
   ],
   "source": [
    "cars_data.head()"
   ]
  },
  {
   "cell_type": "code",
   "execution_count": 7,
   "id": "11448e5f-8d55-4d26-a7b8-f9240b2d4077",
   "metadata": {},
   "outputs": [],
   "source": [
    "cars_data[\"title\"] = cars_data[\"title\"].str.lower()"
   ]
  },
  {
   "cell_type": "code",
   "execution_count": 8,
   "id": "607cb4b9-80dd-4aba-b409-72829562904d",
   "metadata": {},
   "outputs": [
    {
     "name": "stdout",
     "output_type": "stream",
     "text": [
      "<class 'pandas.core.frame.DataFrame'>\n",
      "RangeIndex: 836 entries, 0 to 835\n",
      "Data columns (total 13 columns):\n",
      " #   Column              Non-Null Count  Dtype  \n",
      "---  ------              --------------  -----  \n",
      " 0   title               836 non-null    object \n",
      " 1   price               836 non-null    object \n",
      " 2   manufacturing_year  836 non-null    object \n",
      " 3   mileage             836 non-null    object \n",
      " 4   color               807 non-null    object \n",
      " 5   fuel                836 non-null    object \n",
      " 6   hp                  801 non-null    float64\n",
      " 7   eurostandard        703 non-null    float64\n",
      " 8   cubic_capacity      507 non-null    object \n",
      " 9   gearbox             836 non-null    object \n",
      " 10  type                836 non-null    object \n",
      " 11  region              836 non-null    object \n",
      " 12  url                 836 non-null    object \n",
      "dtypes: float64(2), object(11)\n",
      "memory usage: 85.0+ KB\n"
     ]
    }
   ],
   "source": [
    "cars_data.info()"
   ]
  },
  {
   "cell_type": "markdown",
   "id": "3c0bfad2-343f-4ef2-bf6d-39b9b27852d2",
   "metadata": {},
   "source": [
    "### Clean the price column "
   ]
  },
  {
   "cell_type": "code",
   "execution_count": 9,
   "id": "29539505-16c4-48d5-a3c1-abbff30959d9",
   "metadata": {
    "scrolled": true
   },
   "outputs": [
    {
     "data": {
      "text/plain": [
       "array(['69 990 лв.', '69 999 лв.', '78 990 лв.', '45 500 лв.',\n",
       "       '46 000 лв.', '49 900 лв.', '54 000 лв.', '57 000 лв.',\n",
       "       '57 900 лв.', '59 999 лв.', '61 999 лв.', '62 900 лв.',\n",
       "       '63 663 лв.', '64 999 лв.', '65 800 лв.', '65 999 лв.',\n",
       "       '67 000 лв.', '69 000 лв.', '71 999 лв.', '73 999 лв.',\n",
       "       '78 900 лв.', '81 999 лв.', '98 999 лв.', '83 900 лв.',\n",
       "       '104 999 лв.', '119 000 лв.', '136 000 лв.', '113 999 лв.',\n",
       "       '119 900 лв.', '189 999 лв.', 'Запитване', '63 900 лв.',\n",
       "       '89 990 лв.', '119 699 лв.', '103 900 лв.', '125 000 лв.',\n",
       "       '109 900 лв.', '134 500 лв.', '135 000 лв.', '139 999 лв.',\n",
       "       '72 500 лв.', '74 000 лв.', '76 699 лв.', '94 800 лв.',\n",
       "       '99 000 лв.', '125 999 лв.', '53 700 лв.', '59 800 лв.',\n",
       "       '73 699 лв.', '129 900 лв.', '144 999 лв.', '121 900 лв.',\n",
       "       '157 700 лв.', '177 000 лв.', '149 900 лв.', '189 500 лв.',\n",
       "       '85 000 лв.', '87 000 лв.', '94 999 лв.', '99 800 лв.',\n",
       "       '209 999 лв.', '65 000 лв.', '72 999 лв.', '77 999 лв.',\n",
       "       '86 999 лв.', '37 500 EUR', '76 900 лв.', '83 800 лв.',\n",
       "       '87 900 лв.', '95 000 лв.', '139 990 лв.', '155 780 лв.',\n",
       "       '33 999 лв.', '42 800 лв.', '49 999 лв.', '26 500 EUR',\n",
       "       '52 988 лв.', '47 500 лв.', '48 500 лв.', '48 777 лв.',\n",
       "       '51 999 лв.', '52 900 лв.', '56 666 лв.', '56 900 лв.',\n",
       "       '58 499 лв.', '58 500 лв.', '59 990 лв.', '63 000 лв.',\n",
       "       '63 880 лв.', '66 900 лв.', '68 990 лв.', '69 699 лв.',\n",
       "       '69 900 лв.', '71 900 лв.', '72 900 лв.', '73 800 лв.',\n",
       "       '74 900 лв.', '75 900 лв.', '76 800 лв.', '79 000 лв.',\n",
       "       '79 999 лв.', '88 500 лв.', '96 000 лв.', '82 000 лв.',\n",
       "       '104 890 лв.', '112 900 лв.', '117 000 лв.', '49 999 EUR',\n",
       "       '122 000 лв.', '123 000 лв.', '113 400 лв.', '149 999 лв.',\n",
       "       '49 880 лв.', '53 500 лв.', '58 999 лв.', '62 000 лв.',\n",
       "       '33 500 EUR', '84 999 лв.', '119 500 лв.', '121 121 лв.',\n",
       "       '71 500 EUR', '144 000 лв.', '168 500 лв.', '160 000 лв.',\n",
       "       '66 999 лв.', '74 999 лв.', '79 900 лв.', '43 999 EUR',\n",
       "       '91 000 лв.', '91 700 лв.', '103 999 лв.', '115 000 лв.',\n",
       "       '169 900 лв.', '207 900 лв.', '114 900 лв.', '48 800 лв.',\n",
       "       '66 977 лв.', '76 000 лв.', '146 800 лв.', '146 900 лв.',\n",
       "       '66 999 EUR', '83 000 EUR', '167 000 лв.', '182 900 лв.',\n",
       "       '195 999 лв.', '165 000 лв.', '89 500 лв.', '90 000 лв.',\n",
       "       '99 990 лв.', '102 500 лв.', '124 900 лв.', '129 999 лв.',\n",
       "       '169 888 лв.', '149 000 лв.', '196 500 лв.', '180 000 лв.',\n",
       "       '259 900 лв.', '66 000 лв.', '67 900 лв.', '67 999 лв.',\n",
       "       '75 000 лв.', '80 999 лв.', '86 990 лв.', '110 000 лв.',\n",
       "       '2 700 лв.', '46 990 лв.', '49 000 лв.', '69 500 лв.',\n",
       "       '76 999 лв.', '80 000 лв.', '89 000 лв.', '104 700 лв.',\n",
       "       '97 999 лв.', '129 570 лв.', '108 000 лв.', '114 600 лв.',\n",
       "       '160 100 лв.', '145 420 лв.', '159 500 лв.', '191 670 лв.',\n",
       "       '37 000 лв.', '37 444 лв.', '39 500 лв.', '41 000 лв.',\n",
       "       '25 000 EUR', '54 500 лв.', '7 777 лв.', '30 000 лв.',\n",
       "       '42 000 лв.', '43 000 лв.', '22 100 EUR', '44 000 лв.',\n",
       "       '45 000 лв.', '45 700 лв.', '45 800 лв.', '48 000 лв.',\n",
       "       '48 999 лв.', '49 990 лв.', '50 999 лв.', '51 000 лв.',\n",
       "       '51 500 лв.', '52 000 лв.', '55 000 лв.', '55 600 лв.',\n",
       "       '55 800 лв.', '28 999 EUR', '29 000 EUR', '57 800 лв.',\n",
       "       '58 000 лв.', '30 000 EUR', '58 900 лв.', '59 000 лв.',\n",
       "       '59 500 лв.', '59 900 лв.', '60 000 лв.', '60 900 лв.',\n",
       "       '61 000 лв.', '61 500 лв.', '62 500 лв.', '63 999 лв.',\n",
       "       '64 900 лв.', '65 900 лв.', '65 990 лв.', '66 800 лв.',\n",
       "       '67 500 лв.', '68 000 лв.', '68 450 лв.', '35 000 EUR',\n",
       "       '68 900 лв.', '69 880 лв.', '70 000 лв.', '70 300 лв.',\n",
       "       '70 900 лв.', '71 000 лв.', '71 777 лв.', '71 899 лв.',\n",
       "       '72 000 лв.', '72 199 лв.', '72 699 лв.', '73 444 лв.',\n",
       "       '62 880 лв.', '75 880 лв.', '75 999 лв.', '39 000 EUR',\n",
       "       '76 660 лв.', '33 000 EUR', '79 500 лв.', '81 800 лв.',\n",
       "       '82 300 лв.', '82 499 лв.', '84 000 лв.', '92 000 лв.',\n",
       "       '97 000 лв.', '97 990 лв.', '99 500 лв.', '99 999 лв.',\n",
       "       '101 000 лв.', '105 000 лв.', '109 999 лв.', '91 900 лв.',\n",
       "       '115 800 лв.', '117 999 лв.', '118 888 лв.', '119 800 лв.',\n",
       "       '120 000 лв.', '123 900 лв.', '104 995 лв.', '64 600 EUR',\n",
       "       '130 000 лв.', '133 000 лв.', '134 999 лв.', '135 150 лв.',\n",
       "       '139 000 лв.', '139 500 лв.', '117 500 лв.', '118 999 лв.',\n",
       "       '144 900 лв.', '149 500 лв.', '77 000 EUR', '153 600 лв.',\n",
       "       '79 000 EUR', '128 900 лв.', '70 500 EUR', '85 000 EUR',\n",
       "       '170 000 лв.', '145 670 лв.', '146 980 лв.', '147 980 лв.',\n",
       "       '149 980 лв.', '152 420 лв.', '170 920 лв.', '88 400 EUR',\n",
       "       '212 400 лв.', '54 900 лв.', '57 999 лв.', '60 500 лв.',\n",
       "       '85 399 лв.', '95 499 лв.', '98 900 лв.', '99 900 лв.',\n",
       "       '104 000 лв.', '91 999 лв.', '115 900 лв.', '123 500 лв.',\n",
       "       '103 000 лв.', '107 900 лв.', '133 500 лв.', '134 900 лв.',\n",
       "       '137 840 лв.', '116 999 лв.', '71 900 EUR', '144 500 лв.',\n",
       "       '150 000 лв.', '125 500 лв.', '150 899 лв.', '126 800 лв.',\n",
       "       '127 980 лв.', '153 900 лв.', '129 000 лв.', '154 900 лв.',\n",
       "       '129 800 лв.', '129 980 лв.', '158 880 лв.', '159 000 лв.',\n",
       "       '159 900 лв.', '145 000 лв.', '175 000 лв.', '146 500 лв.',\n",
       "       '179 900 лв.', '150 340 лв.', '150 920 лв.', '153 590 лв.',\n",
       "       '188 000 лв.', '157 920 лв.', '160 375 лв.', '164 090 лв.',\n",
       "       '166 590 лв.', '167 980 лв.', '169 780 лв.', '174 800 лв.',\n",
       "       '178 880 лв.', '186 800 лв.', '57 777 лв.', '61 900 лв.',\n",
       "       '68 188 лв.', '73 555 лв.', '77 000 лв.', '77 900 лв.',\n",
       "       '39 999 EUR', '81 700 лв.', '82 500 лв.', '89 900 лв.',\n",
       "       '80 999 EUR', '96 999 лв.', '102 000 лв.', '106 000 лв.',\n",
       "       '145 500 лв.', '152 000 лв.', '167 900 лв.', '150 250 лв.',\n",
       "       '79 900 EUR', '160 980 лв.', '162 400 лв.', '162 500 лв.',\n",
       "       '162 780 лв.', '164 000 лв.', '165 920 лв.', '199 999 лв.',\n",
       "       '167 780 лв.', '85 999 EUR', '169 999 лв.', '86 990 EUR',\n",
       "       '170 780 лв.', '173 750 лв.', '174 300 лв.', '174 500 лв.',\n",
       "       '175 980 лв.', '176 980 лв.', '179 980 лв.', '179 999 лв.',\n",
       "       '182 770 лв.', '182 999 лв.', '95 000 EUR', '95 999 EUR',\n",
       "       '206 999 лв.', '77 777 лв.', '77 990 лв.', '40 000 EUR',\n",
       "       '82 999 лв.', '128 000 лв.', '56 000 EUR', '127 000 лв.',\n",
       "       '88 999 EUR', '209 800 лв.', '210 800 лв.', '89 999 EUR',\n",
       "       '218 500 лв.', '56 000 лв.', '58 800 лв.', '63 600 лв.',\n",
       "       '63 777 лв.', '68 600 лв.', '58 999 EUR', '75 000 EUR',\n",
       "       '123 999 лв.', '128 880 лв.', '155 000 лв.', '136 999 лв.',\n",
       "       '140 000 лв.', '172 000 лв.', '147 780 лв.', '156 999 лв.',\n",
       "       '158 000 лв.', '159 980 лв.', '163 500 лв.', '83 999 EUR',\n",
       "       '173 880 лв.', '175 500 лв.', '177 780 лв.', '216 800 лв.',\n",
       "       '181 880 лв.', '218 800 лв.', '187 840 лв.', '190 000 лв.',\n",
       "       '229 999 лв.', '192 980 лв.', '195 840 лв.', '196 670 лв.',\n",
       "       '196 999 лв.', '198 980 лв.', '199 900 лв.', '201 980 лв.',\n",
       "       '242 500 лв.', '203 500 лв.', '203 980 лв.', '205 999 лв.',\n",
       "       '206 340 лв.', '249 900 лв.', '109 800 EUR', '214 980 лв.',\n",
       "       '217 999 лв.', '112 000 EUR', '225 670 лв.', '229 090 лв.',\n",
       "       '232 670 лв.', '119 900 EUR', '236 090 лв.', '158 900 лв.',\n",
       "       '69 999 EUR', '213 800 лв.', '195 980 лв.', '197 090 лв.',\n",
       "       '197 420 лв.', '34 800 EUR', '55 000 EUR', '173 999 лв.',\n",
       "       '91 666 лв.', '50 000 EUR', '103 500 лв.', '147 999 лв.',\n",
       "       '77 999 EUR', '185 000 лв.', '199 990 лв.', '87 999 EUR',\n",
       "       '91 999 EUR', '188 900 лв.', '99 000 EUR', '99 999 EUR',\n",
       "       '236 880 лв.', '199 980 лв.', '249 999 лв.', '251 700 лв.',\n",
       "       '213 500 лв.', '219 980 лв.', '231 680 лв.', '234 780 лв.',\n",
       "       '235 780 лв.', '237 700 лв.', '238 999 лв.', '239 980 лв.',\n",
       "       '240 500 лв.', '252 840 лв.', '1 800 лв.', '68 302 лв.',\n",
       "       '70 499 лв.', '70 500 лв.', '74 800 лв.', '75 888 лв.',\n",
       "       '86 900 лв.', '45 000 EUR', '48 000 EUR', '89 999 лв.',\n",
       "       '132 999 лв.', '114 999 лв.', '139 800 лв.', '84 999 EUR',\n",
       "       '206 900 лв.', '240 000 лв.'], dtype=object)"
      ]
     },
     "execution_count": 9,
     "metadata": {},
     "output_type": "execute_result"
    }
   ],
   "source": [
    "cars_data.price.unique()"
   ]
  },
  {
   "cell_type": "markdown",
   "id": "397ec301-d410-4b7c-9136-22ee29a571c5",
   "metadata": {},
   "source": [
    "I remove the currencies and incorrect entries from the price column. Then convert it to int."
   ]
  },
  {
   "cell_type": "code",
   "execution_count": 10,
   "id": "4e410266-9580-47b0-b377-0190a6253266",
   "metadata": {},
   "outputs": [
    {
     "data": {
      "text/plain": [
       "27"
      ]
     },
     "execution_count": 10,
     "metadata": {},
     "output_type": "execute_result"
    }
   ],
   "source": [
    "len(cars_data[cars_data.price == \"Запитване\"])"
   ]
  },
  {
   "cell_type": "code",
   "execution_count": 11,
   "id": "89e5aa01-13ec-4d76-a555-e8e8158eab1b",
   "metadata": {},
   "outputs": [],
   "source": [
    "# remove cars with price == \"запитване\"\n",
    "cars_data = cars_data.loc[~cars_data[\"price\"].str.lower().isin([\"запитване\"])]"
   ]
  },
  {
   "cell_type": "code",
   "execution_count": 12,
   "id": "d350c2cd-a6f0-48c0-bdd3-34f9d9800ad8",
   "metadata": {},
   "outputs": [
    {
     "data": {
      "text/plain": [
       "(809, 13)"
      ]
     },
     "execution_count": 12,
     "metadata": {},
     "output_type": "execute_result"
    }
   ],
   "source": [
    "cars_data.shape"
   ]
  },
  {
   "cell_type": "code",
   "execution_count": 13,
   "id": "392a7ae6-0b89-43dc-9e98-58b9cdf51ad2",
   "metadata": {},
   "outputs": [],
   "source": [
    "# clean the column from currencies and convert it to int:\n",
    "def clean_price(price):\n",
    "    price = price.replace(\" лв.\", \"\").replace(\" \", \"\")\n",
    "    if \"EUR\" in price: \n",
    "        price = int(price.replace(\"EUR\", \"\")) * 1.96\n",
    "    value = int(price)  \n",
    "    \n",
    "    return value\n",
    "\n",
    "\n",
    "cars_data[\"price\"] = cars_data[\"price\"].apply(clean_price)\n",
    "cars_data[\"price\"] = cars_data[\"price\"].astype(int)"
   ]
  },
  {
   "cell_type": "markdown",
   "id": "ae7085ca-7b07-40ed-82ec-8ea9570993f1",
   "metadata": {},
   "source": [
    "### Clean up the manufacturing year column"
   ]
  },
  {
   "cell_type": "code",
   "execution_count": 14,
   "id": "b4bf8907-1da8-4765-b796-0a3fae62d483",
   "metadata": {
    "scrolled": true
   },
   "outputs": [
    {
     "data": {
      "text/plain": [
       "array(['април 2016 г.', 'януари 2017 г.', 'октомври 2017 г.',\n",
       "       'януари 2015 г.', 'юли 2016 г.', 'септември 2019 г.',\n",
       "       'декември 2016 г.', 'май 2016 г.', 'януари 2016 г.',\n",
       "       'февруари 2016 г.', 'юни 2016 г.', 'септември 2015 г.',\n",
       "       'декември 2017 г.', 'януари 2018 г.', 'май 2017 г.',\n",
       "       'февруари 2018 г.', 'август 2018 г.', 'септември 2017 г.',\n",
       "       'ноември 2018 г.', 'юни 2017 г.', 'август 2019 г.',\n",
       "       'декември 2019 г.', 'май 2020 г.', 'октомври 2020 г.',\n",
       "       'юли 2021 г.', 'февруари 2021 г.', 'януари 2022 г.',\n",
       "       'април 2024 г.', 'октомври 2018 г.', 'август 2020 г.',\n",
       "       'януари 2020 г.', 'октомври 2019 г.', 'август 2017 г.',\n",
       "       'юли 2018 г.', 'април 2021 г.', 'декември 2020 г.',\n",
       "       'ноември 2016 г.', 'март 2021 г.', 'юли 2020 г.', 'март 2022 г.',\n",
       "       'октомври 2021 г.', 'септември 2020 г.', 'май 2022 г.',\n",
       "       'октомври 2015 г.', 'април 2017 г.', 'април 2015 г.',\n",
       "       'април 2023 г.', 'септември 2016 г.', 'ноември 2017 г.',\n",
       "       'октомври 2016 г.', 'февруари 2020 г.', 'юни 2021 г.',\n",
       "       'юни 2022 г.', 'февруари 2017 г.', 'февруари 2019 г.',\n",
       "       'април 2018 г.', 'септември 2018 г.', 'ноември 2015 г.',\n",
       "       'август 2016 г.', 'юни 2018 г.', 'декември 2015 г.',\n",
       "       'януари 2019 г.', 'март 2016 г.', 'декември 2018 г.',\n",
       "       'март 2017 г.', 'март 2015 г.', 'ноември 2020 г.', 'юни 2019 г.',\n",
       "       'април 2019 г.', 'септември 2021 г.', 'юни 2020 г.',\n",
       "       'януари 2021 г.', 'май 2023 г.', 'февруари 2024 г.',\n",
       "       'април 2022 г.', 'ноември 2021 г.', 'ноември 2022 г.',\n",
       "       'юли 2017 г.', 'май 2024 г.', 'март 2024 г.', 'декември 2021 г.',\n",
       "       'юли 2019 г.', 'януари 2023 г.', 'януари 2025 г.',\n",
       "       'август 2021 г.', 'февруари 2023 г.', 'юли 2015 г.', 'юни 2015 г.',\n",
       "       'май 2021 г.', 'ноември 2023 г.', 'март 2023 г.',\n",
       "       'февруари 2022 г.', 'юни 2023 г.', 'май 2018 г.', 'март 2018 г.',\n",
       "       'септември 2022 г.', 'април 2020 г.', 'март 2019 г.',\n",
       "       'август 2022 г.', 'юли 2022 г.', 'август 2023 г.',\n",
       "       'януари 2024 г.', 'септември 2023 г.', 'юли 2024 г.',\n",
       "       'септември 2024 г.', 'юли 2023 г.', 'декември 2024 г.',\n",
       "       'декември 2022 г.', 'март 2020 г.', 'октомври 2022 г.',\n",
       "       'юни 2024 г.', 'май 2019 г.', 'ноември 2019 г.',\n",
       "       'октомври 2023 г.', 'декември 2023 г.', 'август 2024 г.',\n",
       "       'август 2015 г.', 'октомври 2024 г.', 'февруари 2025 г.'],\n",
       "      dtype=object)"
      ]
     },
     "execution_count": 14,
     "metadata": {},
     "output_type": "execute_result"
    }
   ],
   "source": [
    "cars_data.manufacturing_year.unique()"
   ]
  },
  {
   "cell_type": "code",
   "execution_count": 15,
   "id": "3bdfa6cd-b7fd-45e6-8e17-884f7a7b7d1d",
   "metadata": {},
   "outputs": [],
   "source": [
    "def clean_manufacturing_year(date_str):\n",
    "    year = int(date_str.split()[1]) # extract only the year from ['октомври', '2023', 'г.'] \n",
    "    return pd.to_datetime(f\"{year}\", format = \"%Y\")\n",
    "\n",
    "cars_data[\"manufacturing_year\"] = cars_data[\"manufacturing_year\"].apply(clean_manufacturing_year)"
   ]
  },
  {
   "cell_type": "code",
   "execution_count": 16,
   "id": "46cd0619-c2d2-462f-8cd5-672a91acb593",
   "metadata": {},
   "outputs": [],
   "source": [
    "cars_data[\"manufacturing_year\"] = cars_data[\"manufacturing_year\"].dt.strftime(\"%Y\")"
   ]
  },
  {
   "cell_type": "code",
   "execution_count": 17,
   "id": "f66c022f-d671-4542-b6f0-f9d98fd465a2",
   "metadata": {},
   "outputs": [
    {
     "data": {
      "text/plain": [
       "array(['2016', '2017', '2015', '2019', '2018', '2020', '2021', '2022',\n",
       "       '2024', '2023', '2025'], dtype=object)"
      ]
     },
     "execution_count": 17,
     "metadata": {},
     "output_type": "execute_result"
    }
   ],
   "source": [
    "cars_data.manufacturing_year.unique()"
   ]
  },
  {
   "cell_type": "markdown",
   "id": "46b4f4e7-9765-4d8d-8e34-de9885199cfd",
   "metadata": {},
   "source": [
    "### Convert column mileage to int"
   ]
  },
  {
   "cell_type": "code",
   "execution_count": 18,
   "id": "6ee77134-07c8-4063-ac17-2a24783793b1",
   "metadata": {},
   "outputs": [],
   "source": [
    "cars_data[\"mileage\"] = cars_data[\"mileage\"].str.replace(\" \", \"\")\n",
    "cars_data[\"mileage\"] = cars_data[\"mileage\"].astype(int)"
   ]
  },
  {
   "cell_type": "markdown",
   "id": "e002ccd2-7672-4f60-b5a9-ba9ebf6a8db7",
   "metadata": {},
   "source": [
    "### Clean color column"
   ]
  },
  {
   "cell_type": "code",
   "execution_count": 19,
   "id": "4f2eb5f5-3454-4638-8511-ad4b49d0cea0",
   "metadata": {},
   "outputs": [
    {
     "data": {
      "text/plain": [
       "color\n",
       "Черен             330\n",
       "Бял               181\n",
       "Сив                89\n",
       "Тъмно сив          49\n",
       "NaN                22\n",
       "Син                17\n",
       "Tъмно син          17\n",
       "Червен             13\n",
       "Светло сив         13\n",
       "Сребърен           12\n",
       "Тъмно син мет.     11\n",
       "Перла              10\n",
       "Графит             10\n",
       "Кафяв               8\n",
       "Бордо               7\n",
       "Т.зелен             6\n",
       "Зелен               5\n",
       "Металик             4\n",
       "Хамелеон            2\n",
       "Бежов               2\n",
       "Светло син          1\n",
       "Name: count, dtype: int64"
      ]
     },
     "execution_count": 19,
     "metadata": {},
     "output_type": "execute_result"
    }
   ],
   "source": [
    "cars_data.color.value_counts(dropna = False) "
   ]
  },
  {
   "cell_type": "markdown",
   "id": "880e9a60-f4b0-4aa3-94e6-87a1171e3611",
   "metadata": {},
   "source": [
    "I remove records with Nan color values, because i can't fill it in:"
   ]
  },
  {
   "cell_type": "code",
   "execution_count": 20,
   "id": "632f13d4-eff6-4475-b92e-e626ec449916",
   "metadata": {},
   "outputs": [],
   "source": [
    "cars_data = cars_data.loc[~cars_data[\"color\"].isnull()]"
   ]
  },
  {
   "cell_type": "code",
   "execution_count": 21,
   "id": "236d51fa-3bc5-486e-bf25-ce52c14efab6",
   "metadata": {},
   "outputs": [],
   "source": [
    "cars_data[\"color\"] = cars_data[\"color\"].str.lower()"
   ]
  },
  {
   "cell_type": "code",
   "execution_count": 22,
   "id": "0d8b9d73-f8bb-469b-8976-b857e219560f",
   "metadata": {},
   "outputs": [],
   "source": [
    "cars_data[\"color\"] = cars_data[\"color\"].apply(lambda x: \"син\" if \"син\" in x else x)\n",
    "cars_data[\"color\"] = cars_data[\"color\"].apply(lambda x: \"зелен\" if \"зелен\" in x else x)\n",
    "cars_data[\"color\"] = cars_data[\"color\"].apply(lambda x: \"червен\" if \"бордо\" in x else x)\n",
    "cars_data[\"color\"] = cars_data[\"color\"].apply(lambda x: \"бял\" if \"перла\" in x else x)\n",
    "cars_data[\"color\"] = cars_data[\"color\"].apply(lambda x: \"тъмно сив\" if \"графит\" in x else x)"
   ]
  },
  {
   "cell_type": "code",
   "execution_count": 23,
   "id": "7a8761d0-972f-400c-a0e2-2b2b6a5e5681",
   "metadata": {},
   "outputs": [
    {
     "data": {
      "text/plain": [
       "color\n",
       "черен         330\n",
       "бял           191\n",
       "сив            89\n",
       "тъмно сив      59\n",
       "син            46\n",
       "червен         20\n",
       "светло сив     13\n",
       "сребърен       12\n",
       "зелен          11\n",
       "кафяв           8\n",
       "металик         4\n",
       "хамелеон        2\n",
       "бежов           2\n",
       "Name: count, dtype: int64"
      ]
     },
     "execution_count": 23,
     "metadata": {},
     "output_type": "execute_result"
    }
   ],
   "source": [
    "cars_data.color.value_counts()"
   ]
  },
  {
   "cell_type": "markdown",
   "id": "329ed2f0-9100-4159-8953-65144dd4b21e",
   "metadata": {},
   "source": [
    "### Clean fuel column"
   ]
  },
  {
   "cell_type": "code",
   "execution_count": 24,
   "id": "9a4d8c20-468d-44d7-a9e9-e13046803802",
   "metadata": {},
   "outputs": [
    {
     "data": {
      "text/plain": [
       "fuel\n",
       "Дизелов           422\n",
       "Бензинов          312\n",
       "Plug-in хибрид     41\n",
       "Хибриден           12\n",
       "Name: count, dtype: int64"
      ]
     },
     "execution_count": 24,
     "metadata": {},
     "output_type": "execute_result"
    }
   ],
   "source": [
    "cars_data.fuel.value_counts(dropna = False)"
   ]
  },
  {
   "cell_type": "code",
   "execution_count": 25,
   "id": "050fe842-5a43-46a8-bd5f-8d479b3ce5ad",
   "metadata": {},
   "outputs": [],
   "source": [
    "cars_data[\"fuel\"] = cars_data[\"fuel\"].str.lower()"
   ]
  },
  {
   "cell_type": "markdown",
   "id": "509d4fb9-bfec-4f41-ab83-1c6427b8940d",
   "metadata": {},
   "source": [
    "### Column hp: I remove records with Nan values"
   ]
  },
  {
   "cell_type": "code",
   "execution_count": 26,
   "id": "cb05d1e0-9bb5-4e13-a07a-8c0d5cf808f5",
   "metadata": {},
   "outputs": [
    {
     "data": {
      "text/plain": [
       "24"
      ]
     },
     "execution_count": 26,
     "metadata": {},
     "output_type": "execute_result"
    }
   ],
   "source": [
    "len(cars_data[cars_data.hp.isna()])"
   ]
  },
  {
   "cell_type": "code",
   "execution_count": 27,
   "id": "956ab689-ad0e-472c-984e-f8925bb4f342",
   "metadata": {},
   "outputs": [],
   "source": [
    "cars_data = cars_data.loc[~cars_data[\"hp\"].isnull()]"
   ]
  },
  {
   "cell_type": "markdown",
   "id": "0bd5693a-f998-4c04-871f-d8a4cdd0d651",
   "metadata": {},
   "source": [
    "### Remove columns:\n",
    "- 'eurostandard' and 'cubic_capacity' because there are a lot of Nan values;\n",
    "- 'gearbox' because it has low entropy and doesn't give me any information (they are all automatic)."
   ]
  },
  {
   "cell_type": "code",
   "execution_count": 28,
   "id": "8a94b815-163a-49bc-af6c-6b8c5021fc40",
   "metadata": {},
   "outputs": [],
   "source": [
    "cars_data = cars_data.drop(columns = ['eurostandard', 'cubic_capacity', 'gearbox'])"
   ]
  },
  {
   "cell_type": "code",
   "execution_count": 29,
   "id": "e8394147-3388-4fb5-8bed-9429d75b31e5",
   "metadata": {},
   "outputs": [],
   "source": [
    "cars_data[\"type\"] = cars_data[\"type\"].str.lower()"
   ]
  },
  {
   "cell_type": "markdown",
   "id": "4ca2cf80-f39b-4f95-bd9a-650e8f2b4ee1",
   "metadata": {},
   "source": [
    "### Clean type column"
   ]
  },
  {
   "cell_type": "code",
   "execution_count": 30,
   "id": "00f482a1-50b1-4ada-ad1f-a3661a8f21de",
   "metadata": {},
   "outputs": [
    {
     "data": {
      "text/plain": [
       "type\n",
       "джип              659\n",
       "купе              102\n",
       "стреч лимузина      1\n",
       "седан               1\n",
       "Name: count, dtype: int64"
      ]
     },
     "execution_count": 30,
     "metadata": {},
     "output_type": "execute_result"
    }
   ],
   "source": [
    "cars_data.type.value_counts(dropna = False)"
   ]
  },
  {
   "cell_type": "code",
   "execution_count": 31,
   "id": "605497f4-7ad8-4415-9f26-c53b988eb818",
   "metadata": {},
   "outputs": [],
   "source": [
    "# Only for SUV:\n",
    "cars_data[\"type\"] = cars_data[\"type\"].apply(lambda x: \"джип\" if \"стреч лимузина\" in x else x)\n",
    "cars_data[\"type\"] = cars_data[\"type\"].apply(lambda x: \"купе\" if \"седан\" in x else x)"
   ]
  },
  {
   "cell_type": "code",
   "execution_count": 32,
   "id": "c9b34710-6b15-429b-b23e-77b95d5aa901",
   "metadata": {},
   "outputs": [
    {
     "data": {
      "text/plain": [
       "type\n",
       "джип    660\n",
       "купе    103\n",
       "Name: count, dtype: int64"
      ]
     },
     "execution_count": 32,
     "metadata": {},
     "output_type": "execute_result"
    }
   ],
   "source": [
    "cars_data.type.value_counts(dropna = False)"
   ]
  },
  {
   "cell_type": "code",
   "execution_count": 33,
   "id": "2853954b-5068-450f-a8c2-3e3f92d6e9be",
   "metadata": {},
   "outputs": [
    {
     "data": {
      "text/html": [
       "<div>\n",
       "<style scoped>\n",
       "    .dataframe tbody tr th:only-of-type {\n",
       "        vertical-align: middle;\n",
       "    }\n",
       "\n",
       "    .dataframe tbody tr th {\n",
       "        vertical-align: top;\n",
       "    }\n",
       "\n",
       "    .dataframe thead th {\n",
       "        text-align: right;\n",
       "    }\n",
       "</style>\n",
       "<table border=\"1\" class=\"dataframe\">\n",
       "  <thead>\n",
       "    <tr style=\"text-align: right;\">\n",
       "      <th></th>\n",
       "      <th>title</th>\n",
       "      <th>price</th>\n",
       "      <th>manufacturing_year</th>\n",
       "      <th>mileage</th>\n",
       "      <th>color</th>\n",
       "      <th>fuel</th>\n",
       "      <th>hp</th>\n",
       "      <th>type</th>\n",
       "      <th>region</th>\n",
       "      <th>url</th>\n",
       "    </tr>\n",
       "  </thead>\n",
       "  <tbody>\n",
       "    <tr>\n",
       "      <th>0</th>\n",
       "      <td>mercedes-benz gle 450amg coupe дистроник камер...</td>\n",
       "      <td>69990</td>\n",
       "      <td>2016</td>\n",
       "      <td>153000</td>\n",
       "      <td>черен</td>\n",
       "      <td>бензинов</td>\n",
       "      <td>367.0</td>\n",
       "      <td>джип</td>\n",
       "      <td>София</td>\n",
       "      <td>https://www.mobile.bg/obiava-21739610929678661...</td>\n",
       "    </tr>\n",
       "    <tr>\n",
       "      <th>1</th>\n",
       "      <td>mercedes-benz gle 350d coupe-amg line-9g-troni...</td>\n",
       "      <td>69999</td>\n",
       "      <td>2017</td>\n",
       "      <td>189000</td>\n",
       "      <td>бял</td>\n",
       "      <td>дизелов</td>\n",
       "      <td>258.0</td>\n",
       "      <td>джип</td>\n",
       "      <td>Пазарджик</td>\n",
       "      <td>https://www.mobile.bg/obiava-21732691514860984...</td>\n",
       "    </tr>\n",
       "    <tr>\n",
       "      <th>2</th>\n",
       "      <td>mercedes-benz gle 43 amg coupe панорама дистр....</td>\n",
       "      <td>78990</td>\n",
       "      <td>2017</td>\n",
       "      <td>127000</td>\n",
       "      <td>син</td>\n",
       "      <td>бензинов</td>\n",
       "      <td>367.0</td>\n",
       "      <td>джип</td>\n",
       "      <td>София</td>\n",
       "      <td>https://www.mobile.bg/obiava-11737682127414901...</td>\n",
       "    </tr>\n",
       "    <tr>\n",
       "      <th>15</th>\n",
       "      <td>mercedes-benz gle 350 coupe= amg premium-4mati...</td>\n",
       "      <td>63663</td>\n",
       "      <td>2018</td>\n",
       "      <td>220000</td>\n",
       "      <td>кафяв</td>\n",
       "      <td>дизелов</td>\n",
       "      <td>258.0</td>\n",
       "      <td>купе</td>\n",
       "      <td>Габрово</td>\n",
       "      <td>https://www.mobile.bg/obiava-21732345909213116...</td>\n",
       "    </tr>\n",
       "    <tr>\n",
       "      <th>23</th>\n",
       "      <td>mercedes-benz gle 350 coupe 350/4-matic/63amg/...</td>\n",
       "      <td>71999</td>\n",
       "      <td>2018</td>\n",
       "      <td>177000</td>\n",
       "      <td>черен</td>\n",
       "      <td>дизелов</td>\n",
       "      <td>258.0</td>\n",
       "      <td>джип</td>\n",
       "      <td>Пазарджик</td>\n",
       "      <td>https://www.mobile.bg/obiava-21740557092224316...</td>\n",
       "    </tr>\n",
       "    <tr>\n",
       "      <th>...</th>\n",
       "      <td>...</td>\n",
       "      <td>...</td>\n",
       "      <td>...</td>\n",
       "      <td>...</td>\n",
       "      <td>...</td>\n",
       "      <td>...</td>\n",
       "      <td>...</td>\n",
       "      <td>...</td>\n",
       "      <td>...</td>\n",
       "      <td>...</td>\n",
       "    </tr>\n",
       "    <tr>\n",
       "      <th>828</th>\n",
       "      <td>mercedes-benz gle coupe 53 amg 4matic+ eq boos...</td>\n",
       "      <td>144999</td>\n",
       "      <td>2020</td>\n",
       "      <td>109581</td>\n",
       "      <td>сив</td>\n",
       "      <td>бензинов</td>\n",
       "      <td>435.0</td>\n",
       "      <td>джип</td>\n",
       "      <td>София</td>\n",
       "      <td>https://www.mobile.bg/obiava-21737987509510005...</td>\n",
       "    </tr>\n",
       "    <tr>\n",
       "      <th>829</th>\n",
       "      <td>mercedes-benz gle coupe 350e 4matic plug in hy...</td>\n",
       "      <td>166598</td>\n",
       "      <td>2021</td>\n",
       "      <td>89000</td>\n",
       "      <td>черен</td>\n",
       "      <td>plug-in хибрид</td>\n",
       "      <td>347.0</td>\n",
       "      <td>джип</td>\n",
       "      <td>София</td>\n",
       "      <td>https://www.mobile.bg/obiava-21680344663006605...</td>\n",
       "    </tr>\n",
       "    <tr>\n",
       "      <th>830</th>\n",
       "      <td>mercedes-benz gle coupe 53 amg* night* hud* ma...</td>\n",
       "      <td>167000</td>\n",
       "      <td>2020</td>\n",
       "      <td>65000</td>\n",
       "      <td>черен</td>\n",
       "      <td>бензинов</td>\n",
       "      <td>435.0</td>\n",
       "      <td>джип</td>\n",
       "      <td>София</td>\n",
       "      <td>https://www.mobile.bg/obiava-21736457838203598...</td>\n",
       "    </tr>\n",
       "    <tr>\n",
       "      <th>832</th>\n",
       "      <td>mercedes-benz gle coupe 5.3 amg 4matik burmest...</td>\n",
       "      <td>206900</td>\n",
       "      <td>2023</td>\n",
       "      <td>23000</td>\n",
       "      <td>черен</td>\n",
       "      <td>бензинов</td>\n",
       "      <td>435.0</td>\n",
       "      <td>джип</td>\n",
       "      <td>София</td>\n",
       "      <td>https://www.mobile.bg/obiava-21728491801888745...</td>\n",
       "    </tr>\n",
       "    <tr>\n",
       "      <th>833</th>\n",
       "      <td>mercedes-benz gle coupe gle 63 s аmg керамика ...</td>\n",
       "      <td>240000</td>\n",
       "      <td>2022</td>\n",
       "      <td>43000</td>\n",
       "      <td>бял</td>\n",
       "      <td>бензинов</td>\n",
       "      <td>612.0</td>\n",
       "      <td>джип</td>\n",
       "      <td>Шумен</td>\n",
       "      <td>https://www.mobile.bg/obiava-21701263703982637...</td>\n",
       "    </tr>\n",
       "  </tbody>\n",
       "</table>\n",
       "<p>225 rows × 10 columns</p>\n",
       "</div>"
      ],
      "text/plain": [
       "                                                 title   price  \\\n",
       "0    mercedes-benz gle 450amg coupe дистроник камер...   69990   \n",
       "1    mercedes-benz gle 350d coupe-amg line-9g-troni...   69999   \n",
       "2    mercedes-benz gle 43 amg coupe панорама дистр....   78990   \n",
       "15   mercedes-benz gle 350 coupe= amg premium-4mati...   63663   \n",
       "23   mercedes-benz gle 350 coupe 350/4-matic/63amg/...   71999   \n",
       "..                                                 ...     ...   \n",
       "828  mercedes-benz gle coupe 53 amg 4matic+ eq boos...  144999   \n",
       "829  mercedes-benz gle coupe 350e 4matic plug in hy...  166598   \n",
       "830  mercedes-benz gle coupe 53 amg* night* hud* ma...  167000   \n",
       "832  mercedes-benz gle coupe 5.3 amg 4matik burmest...  206900   \n",
       "833  mercedes-benz gle coupe gle 63 s аmg керамика ...  240000   \n",
       "\n",
       "    manufacturing_year  mileage  color            fuel     hp  type  \\\n",
       "0                 2016   153000  черен        бензинов  367.0  джип   \n",
       "1                 2017   189000    бял         дизелов  258.0  джип   \n",
       "2                 2017   127000    син        бензинов  367.0  джип   \n",
       "15                2018   220000  кафяв         дизелов  258.0  купе   \n",
       "23                2018   177000  черен         дизелов  258.0  джип   \n",
       "..                 ...      ...    ...             ...    ...   ...   \n",
       "828               2020   109581    сив        бензинов  435.0  джип   \n",
       "829               2021    89000  черен  plug-in хибрид  347.0  джип   \n",
       "830               2020    65000  черен        бензинов  435.0  джип   \n",
       "832               2023    23000  черен        бензинов  435.0  джип   \n",
       "833               2022    43000    бял        бензинов  612.0  джип   \n",
       "\n",
       "        region                                                url  \n",
       "0        София  https://www.mobile.bg/obiava-21739610929678661...  \n",
       "1    Пазарджик  https://www.mobile.bg/obiava-21732691514860984...  \n",
       "2        София  https://www.mobile.bg/obiava-11737682127414901...  \n",
       "15     Габрово  https://www.mobile.bg/obiava-21732345909213116...  \n",
       "23   Пазарджик  https://www.mobile.bg/obiava-21740557092224316...  \n",
       "..         ...                                                ...  \n",
       "828      София  https://www.mobile.bg/obiava-21737987509510005...  \n",
       "829      София  https://www.mobile.bg/obiava-21680344663006605...  \n",
       "830      София  https://www.mobile.bg/obiava-21736457838203598...  \n",
       "832      София  https://www.mobile.bg/obiava-21728491801888745...  \n",
       "833      Шумен  https://www.mobile.bg/obiava-21701263703982637...  \n",
       "\n",
       "[225 rows x 10 columns]"
      ]
     },
     "execution_count": 33,
     "metadata": {},
     "output_type": "execute_result"
    }
   ],
   "source": [
    "cars_data[(cars_data.title.str.contains(\"купе\")) | (cars_data.title.str.contains(\"coupe\"))]"
   ]
  },
  {
   "cell_type": "markdown",
   "id": "21f4b828-2b4e-46f2-8991-0acbcfccbfee",
   "metadata": {},
   "source": [
    "I correct type column based on information in title."
   ]
  },
  {
   "cell_type": "code",
   "execution_count": 34,
   "id": "73904f1b-2f4e-4745-b05d-57e2f59b5af1",
   "metadata": {},
   "outputs": [],
   "source": [
    "cars_data.loc[\n",
    "    cars_data[\"title\"].str.contains(\"купе\", case=False, na=False) | \n",
    "    cars_data[\"title\"].str.contains(\"coupe\", case=False, na=False), \n",
    "    \"type\"\n",
    "] = \"купе\""
   ]
  },
  {
   "cell_type": "code",
   "execution_count": 35,
   "id": "19599c86-b557-4a86-ac19-01b382b392d1",
   "metadata": {},
   "outputs": [
    {
     "data": {
      "text/plain": [
       "region\n",
       "София             405\n",
       "Пловдив           119\n",
       "Варна              45\n",
       "Стара Загора       24\n",
       "Пазарджик          22\n",
       "Благоевград        19\n",
       "Русе               16\n",
       "Бургас             16\n",
       "Велико Търново     15\n",
       "Плевен             14\n",
       "Шумен              10\n",
       "Перник              8\n",
       "Кърджали            8\n",
       "Хасково             7\n",
       "Сливен              6\n",
       "Враца               6\n",
       "Габрово             5\n",
       "Дупница             4\n",
       "Добрич              3\n",
       "Видин               3\n",
       "Търговище           2\n",
       "Смолян              2\n",
       "Кюстендил           2\n",
       "Разград             1\n",
       "Ямбол               1\n",
       "Name: count, dtype: int64"
      ]
     },
     "execution_count": 35,
     "metadata": {},
     "output_type": "execute_result"
    }
   ],
   "source": [
    "cars_data.region.value_counts(dropna = False)"
   ]
  },
  {
   "cell_type": "code",
   "execution_count": 36,
   "id": "f34b85f8-55d2-443b-9b5e-23e03bc1c082",
   "metadata": {},
   "outputs": [],
   "source": [
    "cars_data[\"region\"] = cars_data[\"region\"].str.lower()"
   ]
  },
  {
   "cell_type": "markdown",
   "id": "a4482511-f716-422d-8ffd-751d0868bfc2",
   "metadata": {},
   "source": [
    "I create a new boolean column based on whether the cars is AMG. I extract this information from the title."
   ]
  },
  {
   "cell_type": "code",
   "execution_count": 37,
   "id": "2d335160-eff9-4e22-9f25-4e988849766b",
   "metadata": {},
   "outputs": [],
   "source": [
    "cars_data[\"is_amg\"] = cars_data[\"title\"].str.contains(\"AMG\", case = False).astype(int)"
   ]
  },
  {
   "cell_type": "code",
   "execution_count": 38,
   "id": "fb4ae289-33d1-48cc-98d6-006f9e614cbb",
   "metadata": {},
   "outputs": [
    {
     "data": {
      "text/plain": [
       "[('mercedes-benz gle 450amg coupe дистроник камери360 обдухване keyless', 1),\n",
       " ('mercedes-benz gle 350d coupe-amg line-9g-tronic-harmon kardon', 1),\n",
       " ('mercedes-benz gle 43 amg coupe панорама дистр.head-up keyless cam360', 1),\n",
       " ('mercedes-benz gle 250 d', 0),\n",
       " ('mercedes-benz gle 350 4matic amg * топ състояние*', 1),\n",
       " ('mercedes-benz gle 350 amg/panorama/360-kamera/kylessgo/собствен лизинг', 1),\n",
       " ('mercedes-benz gle 350 4matic* 63 amg optic* camera', 1),\n",
       " ('mercedes-benz gle 350 amg line/9g/germany/подгрев/sign assyst/auto h/liz',\n",
       "  1),\n",
       " ('mercedes-benz gle 350 * amg* bi turbo * 4 matic*', 1),\n",
       " ('mercedes-benz gle 350 3, 5 cdi 4matic', 0)]"
      ]
     },
     "execution_count": 38,
     "metadata": {},
     "output_type": "execute_result"
    }
   ],
   "source": [
    "list(zip(cars_data.title, cars_data.is_amg))[0:10]"
   ]
  },
  {
   "cell_type": "code",
   "execution_count": 39,
   "id": "34499833-2b4e-443d-8dad-939130db91c4",
   "metadata": {},
   "outputs": [
    {
     "data": {
      "text/html": [
       "<div>\n",
       "<style scoped>\n",
       "    .dataframe tbody tr th:only-of-type {\n",
       "        vertical-align: middle;\n",
       "    }\n",
       "\n",
       "    .dataframe tbody tr th {\n",
       "        vertical-align: top;\n",
       "    }\n",
       "\n",
       "    .dataframe thead th {\n",
       "        text-align: right;\n",
       "    }\n",
       "</style>\n",
       "<table border=\"1\" class=\"dataframe\">\n",
       "  <thead>\n",
       "    <tr style=\"text-align: right;\">\n",
       "      <th></th>\n",
       "      <th>title</th>\n",
       "      <th>price</th>\n",
       "      <th>manufacturing_year</th>\n",
       "      <th>mileage</th>\n",
       "      <th>color</th>\n",
       "      <th>fuel</th>\n",
       "      <th>hp</th>\n",
       "      <th>type</th>\n",
       "      <th>region</th>\n",
       "      <th>url</th>\n",
       "      <th>is_amg</th>\n",
       "    </tr>\n",
       "  </thead>\n",
       "  <tbody>\n",
       "    <tr>\n",
       "      <th>0</th>\n",
       "      <td>mercedes-benz gle 450amg coupe дистроник камер...</td>\n",
       "      <td>69990</td>\n",
       "      <td>2016</td>\n",
       "      <td>153000</td>\n",
       "      <td>черен</td>\n",
       "      <td>бензинов</td>\n",
       "      <td>367.0</td>\n",
       "      <td>купе</td>\n",
       "      <td>софия</td>\n",
       "      <td>https://www.mobile.bg/obiava-21739610929678661...</td>\n",
       "      <td>1</td>\n",
       "    </tr>\n",
       "    <tr>\n",
       "      <th>1</th>\n",
       "      <td>mercedes-benz gle 350d coupe-amg line-9g-troni...</td>\n",
       "      <td>69999</td>\n",
       "      <td>2017</td>\n",
       "      <td>189000</td>\n",
       "      <td>бял</td>\n",
       "      <td>дизелов</td>\n",
       "      <td>258.0</td>\n",
       "      <td>купе</td>\n",
       "      <td>пазарджик</td>\n",
       "      <td>https://www.mobile.bg/obiava-21732691514860984...</td>\n",
       "      <td>1</td>\n",
       "    </tr>\n",
       "    <tr>\n",
       "      <th>2</th>\n",
       "      <td>mercedes-benz gle 43 amg coupe панорама дистр....</td>\n",
       "      <td>78990</td>\n",
       "      <td>2017</td>\n",
       "      <td>127000</td>\n",
       "      <td>син</td>\n",
       "      <td>бензинов</td>\n",
       "      <td>367.0</td>\n",
       "      <td>купе</td>\n",
       "      <td>софия</td>\n",
       "      <td>https://www.mobile.bg/obiava-11737682127414901...</td>\n",
       "      <td>1</td>\n",
       "    </tr>\n",
       "    <tr>\n",
       "      <th>3</th>\n",
       "      <td>mercedes-benz gle 250 d</td>\n",
       "      <td>45500</td>\n",
       "      <td>2015</td>\n",
       "      <td>178000</td>\n",
       "      <td>черен</td>\n",
       "      <td>дизелов</td>\n",
       "      <td>204.0</td>\n",
       "      <td>джип</td>\n",
       "      <td>пловдив</td>\n",
       "      <td>https://www.mobile.bg/obiava-21705057744409616...</td>\n",
       "      <td>0</td>\n",
       "    </tr>\n",
       "    <tr>\n",
       "      <th>4</th>\n",
       "      <td>mercedes-benz gle 350 4matic amg * топ състояние*</td>\n",
       "      <td>46000</td>\n",
       "      <td>2016</td>\n",
       "      <td>251700</td>\n",
       "      <td>сив</td>\n",
       "      <td>бензинов</td>\n",
       "      <td>307.0</td>\n",
       "      <td>джип</td>\n",
       "      <td>софия</td>\n",
       "      <td>https://www.mobile.bg/obiava-21725807501288193...</td>\n",
       "      <td>1</td>\n",
       "    </tr>\n",
       "  </tbody>\n",
       "</table>\n",
       "</div>"
      ],
      "text/plain": [
       "                                               title  price  \\\n",
       "0  mercedes-benz gle 450amg coupe дистроник камер...  69990   \n",
       "1  mercedes-benz gle 350d coupe-amg line-9g-troni...  69999   \n",
       "2  mercedes-benz gle 43 amg coupe панорама дистр....  78990   \n",
       "3                            mercedes-benz gle 250 d  45500   \n",
       "4  mercedes-benz gle 350 4matic amg * топ състояние*  46000   \n",
       "\n",
       "  manufacturing_year  mileage  color      fuel     hp  type     region  \\\n",
       "0               2016   153000  черен  бензинов  367.0  купе      софия   \n",
       "1               2017   189000    бял   дизелов  258.0  купе  пазарджик   \n",
       "2               2017   127000    син  бензинов  367.0  купе      софия   \n",
       "3               2015   178000  черен   дизелов  204.0  джип    пловдив   \n",
       "4               2016   251700    сив  бензинов  307.0  джип      софия   \n",
       "\n",
       "                                                 url  is_amg  \n",
       "0  https://www.mobile.bg/obiava-21739610929678661...       1  \n",
       "1  https://www.mobile.bg/obiava-21732691514860984...       1  \n",
       "2  https://www.mobile.bg/obiava-11737682127414901...       1  \n",
       "3  https://www.mobile.bg/obiava-21705057744409616...       0  \n",
       "4  https://www.mobile.bg/obiava-21725807501288193...       1  "
      ]
     },
     "execution_count": 39,
     "metadata": {},
     "output_type": "execute_result"
    }
   ],
   "source": [
    "cars_data.head()"
   ]
  },
  {
   "cell_type": "code",
   "execution_count": null,
   "id": "6f2a2c13-d716-4b5a-a442-fae2aa4e70a3",
   "metadata": {},
   "outputs": [],
   "source": [
    "cars_data"
   ]
  },
  {
   "cell_type": "markdown",
   "id": "dffdb260-ca68-44f0-bbaa-bb8b2cf584d4",
   "metadata": {},
   "source": [
    "### Save cleaned data"
   ]
  },
  {
   "cell_type": "code",
   "execution_count": 40,
   "id": "64ee01af-6e0a-4ec0-a781-33c591db1795",
   "metadata": {},
   "outputs": [],
   "source": [
    "current_date = datetime.today().strftime('%d-%m-%Y')\n",
    "filename = f\"data/cleaned_data_{current_date}.csv\"\n",
    "cars_data.to_csv(filename, index = False)"
   ]
  }
 ],
 "metadata": {
  "kernelspec": {
   "display_name": "Python 3 (ipykernel)",
   "language": "python",
   "name": "python3"
  },
  "language_info": {
   "codemirror_mode": {
    "name": "ipython",
    "version": 3
   },
   "file_extension": ".py",
   "mimetype": "text/x-python",
   "name": "python",
   "nbconvert_exporter": "python",
   "pygments_lexer": "ipython3",
   "version": "3.11.7"
  }
 },
 "nbformat": 4,
 "nbformat_minor": 5
}
